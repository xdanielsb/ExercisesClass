{
 "cells": [
  {
   "cell_type": "code",
   "execution_count": 1,
   "metadata": {},
   "outputs": [],
   "source": [
    "import random \n",
    "__author__=\"Daniel Santos\""
   ]
  },
  {
   "cell_type": "code",
   "execution_count": 9,
   "metadata": {},
   "outputs": [],
   "source": [
    "def getRandomLetter():\n",
    "   seq = \"ACTG\"\n",
    "   rnd = random.randint( 0,len(seq)-1)\n",
    "   return seq[rnd]"
   ]
  },
  {
   "cell_type": "code",
   "execution_count": 34,
   "metadata": {},
   "outputs": [],
   "source": [
    "# Generate sequences\n",
    "haystack = \"\"\n",
    "needle = \"\"\n",
    "aux = \"\"\n",
    "for i in range(0, 120): haystack+=( getRandomLetter())\n",
    "for i in range(0, 20): needle+=( getRandomLetter())\n",
    "for i in range(0, 19): aux+=\"F\"\n",
    "haystack = aux + haystack"
   ]
  },
  {
   "cell_type": "code",
   "execution_count": 62,
   "metadata": {},
   "outputs": [
    {
     "name": "stdout",
     "output_type": "stream",
     "text": [
      "Best match is at pos =  71 with 11 matches \n"
     ]
    }
   ],
   "source": [
    "best = -1\n",
    "pos = 0\n",
    "matches = []\n",
    "for i in range( 0, 120+19):\n",
    "    aux = 0\n",
    "    for j in range( 0, 20):\n",
    "        if ( i + j >= 120): continue\n",
    "        if( haystack[(i+j)] == needle[j]): aux = aux +1\n",
    "    matches.append( aux )\n",
    "    if( aux > best):\n",
    "        best = aux\n",
    "        pos = i\n",
    "print( \"Best match is at pos =  {} with {} matches \".format(pos, best))"
   ]
  },
  {
   "cell_type": "code",
   "execution_count": 61,
   "metadata": {},
   "outputs": [
    {
     "name": "stdout",
     "output_type": "stream",
     "text": [
      "                  FCGATAGATCGTGGTACCCGTTGGTGCTGATCAACCAATTGGGGCCCACATAAT\u001b[1m\u001b[91mA\u001b[0m\u001b[1m\u001b[91mT\u001b[0mTA\u001b[1m\u001b[91mC\u001b[0mCC\u001b[1m\u001b[91mC\u001b[0m\u001b[1m\u001b[91mA\u001b[0mC\u001b[1m\u001b[91mG\u001b[0mG\u001b[1m\u001b[91mA\u001b[0mG\u001b[1m\u001b[91mA\u001b[0m\u001b[1m\u001b[91mT\u001b[0mC\u001b[1m\u001b[91mA\u001b[0m\u001b[1m\u001b[91mG\u001b[0mGCCCTTCTAAAACTTTGACACGGGGCTGG\n",
      "\n",
      "                                                                        ||  |  || | | || ||                             \n",
      "\n",
      "                                                                       C\u001b[1m\u001b[91mA\u001b[0m\u001b[1m\u001b[91mT\u001b[0mCC\u001b[1m\u001b[91mC\u001b[0mAA\u001b[1m\u001b[91mC\u001b[0m\u001b[1m\u001b[91mA\u001b[0mT\u001b[1m\u001b[91mG\u001b[0mA\u001b[1m\u001b[91mA\u001b[0mA\u001b[1m\u001b[91mA\u001b[0m\u001b[1m\u001b[91mT\u001b[0mT\u001b[1m\u001b[91mA\u001b[0m\u001b[1m\u001b[91mG\u001b[0m\n",
      "\n",
      "Array of matches\n",
      "0,1,0,1,0,3,2,2,2,5,3,4,5,3,3,4,5,2,3,6,4,3,6,2,5,1,4,5,3,5,4,4,8,3,2,5,6,4,4,5,8,8,4,3,5,4,5,5,5,7,4,3,5,4,7,6,5,7,9,5,6,6,5,8,5,2,8,1,5,5,3,11,7,6,8,4,4,6,4,6,5,3,3,4,4,7,5,6,11,8,6,2,5,8,8,7,7,2,3,4,4,6,3,5,4,1,2,4,3,2,0,2,1,1,0,1,1,0,0,0,0,0,0,0,0,0,0,0,0,0,0,0,0,0,0,0,0,0,0,"
     ]
    }
   ],
   "source": [
    "def bold(text=\"\"):\n",
    "    print ('\\033[1m\\033[91m' + text + '\\033[0m', end=\"\")\n",
    "    \n",
    "for i in range( 18): print(\"\", end=\" \")\n",
    "for i in range( 18, 120):\n",
    "    if(i < pos or i>=pos+20):\n",
    "        print(haystack[i],end=\"\")\n",
    "    elif( haystack[i] == needle[i-pos]): bold( haystack[i])\n",
    "    else: print(haystack[i], end=\"\")\n",
    "print(\"\\n\")\n",
    "for i in range( 18): print(\"\", end=\" \")\n",
    "for i in range( 18, 120):\n",
    "    if(i < pos or i>=pos+20):print(\" \",end=\"\")\n",
    "    elif( haystack[i] == needle[i-pos]): print(\"|\", end=\"\")\n",
    "    else: print(\" \", end=\"\")\n",
    "print(\"\\n\")\n",
    "for i in range( pos): print(\"\", end=\" \")\n",
    "for i in range( 0,20):\n",
    "    to = i + pos\n",
    "    if( i + pos > 138): print( needle[i], end=\"\")\n",
    "    elif( needle[i]==haystack[to]):  bold( needle[i])\n",
    "    else:  print( needle[i], end=\"\")\n",
    "print(\"\\n\")\n",
    "print(\"Array of matches\")\n",
    "for el in matches: print(el, end=\",\")"
   ]
  },
  {
   "cell_type": "code",
   "execution_count": null,
   "metadata": {},
   "outputs": [],
   "source": []
  }
 ],
 "metadata": {
  "kernelspec": {
   "display_name": "Python 3",
   "language": "python",
   "name": "python3"
  },
  "language_info": {
   "codemirror_mode": {
    "name": "ipython",
    "version": 3
   },
   "file_extension": ".py",
   "mimetype": "text/x-python",
   "name": "python",
   "nbconvert_exporter": "python",
   "pygments_lexer": "ipython3",
   "version": "3.7.1"
  }
 },
 "nbformat": 4,
 "nbformat_minor": 2
}
